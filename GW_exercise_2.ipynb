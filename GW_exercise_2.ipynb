{
  "nbformat": 4,
  "nbformat_minor": 0,
  "metadata": {
    "colab": {
      "provenance": [],
      "authorship_tag": "ABX9TyNj+G+VRLm+y5WkJJMzr/QL",
      "include_colab_link": true
    },
    "kernelspec": {
      "name": "python3",
      "display_name": "Python 3"
    },
    "language_info": {
      "name": "python"
    }
  },
  "cells": [
    {
      "cell_type": "markdown",
      "metadata": {
        "id": "view-in-github",
        "colab_type": "text"
      },
      "source": [
        "<a href=\"https://colab.research.google.com/github/vladop22/PRA3024-Analysis-of-Big-Data-in-Physics/blob/main/GW_exercise_2.ipynb\" target=\"_parent\"><img src=\"https://colab.research.google.com/assets/colab-badge.svg\" alt=\"Open In Colab\"/></a>"
      ]
    },
    {
      "cell_type": "markdown",
      "source": [
        "PART 1"
      ],
      "metadata": {
        "id": "vZ3ObSALDeEW"
      }
    },
    {
      "cell_type": "code",
      "execution_count": 27,
      "metadata": {
        "colab": {
          "base_uri": "https://localhost:8080/"
        },
        "id": "y7aLDqoKpNKK",
        "outputId": "df0ed90a-a153-4d92-e5ec-b0ecd63d74b8"
      },
      "outputs": [
        {
          "output_type": "stream",
          "name": "stdout",
          "text": [
            "Looking in indexes: https://pypi.org/simple, https://us-python.pkg.dev/colab-wheels/public/simple/\n",
            "Requirement already satisfied: lalsuite in /usr/local/lib/python3.9/dist-packages (7.13)\n",
            "Requirement already satisfied: pycbc in /usr/local/lib/python3.9/dist-packages (2.2.0)\n",
            "Requirement already satisfied: lscsoft-glue in /usr/local/lib/python3.9/dist-packages (from lalsuite) (3.0.1)\n",
            "Requirement already satisfied: python-dateutil in /usr/local/lib/python3.9/dist-packages (from lalsuite) (2.8.2)\n",
            "Requirement already satisfied: astropy in /usr/local/lib/python3.9/dist-packages (from lalsuite) (4.3.1)\n",
            "Requirement already satisfied: matplotlib in /usr/local/lib/python3.9/dist-packages (from lalsuite) (3.5.3)\n",
            "Requirement already satisfied: numpy>=1.7 in /usr/local/lib/python3.9/dist-packages (from lalsuite) (1.22.4)\n",
            "Requirement already satisfied: scipy in /usr/local/lib/python3.9/dist-packages (from lalsuite) (1.10.1)\n",
            "Requirement already satisfied: ligo-segments in /usr/local/lib/python3.9/dist-packages (from lalsuite) (1.4.0)\n",
            "Requirement already satisfied: python-ligo-lw>=1.7.0 in /usr/local/lib/python3.9/dist-packages (from pycbc) (1.8.3)\n",
            "Requirement already satisfied: jinja2 in /usr/local/lib/python3.9/dist-packages (from pycbc) (3.1.2)\n",
            "Requirement already satisfied: h5py!=3.7.0,>=3.0.0 in /usr/local/lib/python3.9/dist-packages (from pycbc) (3.1.0)\n",
            "Requirement already satisfied: pillow in /usr/local/lib/python3.9/dist-packages (from pycbc) (8.4.0)\n",
            "Requirement already satisfied: beautifulsoup4>=4.6.0 in /usr/local/lib/python3.9/dist-packages (from pycbc) (4.9.3)\n",
            "Requirement already satisfied: mpld3>=0.3 in /usr/local/lib/python3.9/dist-packages (from pycbc) (0.5.9)\n",
            "Requirement already satisfied: Mako>=1.0.1 in /usr/local/lib/python3.9/dist-packages (from pycbc) (1.2.4)\n",
            "Requirement already satisfied: cython>=0.29 in /usr/local/lib/python3.9/dist-packages (from pycbc) (0.29.33)\n",
            "Requirement already satisfied: tqdm in /usr/local/lib/python3.9/dist-packages (from pycbc) (4.65.0)\n",
            "Requirement already satisfied: pegasus-wms.api>=5.0.3 in /usr/local/lib/python3.9/dist-packages (from pycbc) (5.0.5)\n",
            "Requirement already satisfied: gwdatafind in /usr/local/lib/python3.9/dist-packages (from pycbc) (1.1.3)\n",
            "Requirement already satisfied: setuptools in /usr/local/lib/python3.9/dist-packages (from pycbc) (63.4.3)\n",
            "Requirement already satisfied: pyerfa>=1.7.3 in /usr/local/lib/python3.9/dist-packages (from astropy->lalsuite) (2.0.0.1)\n",
            "Requirement already satisfied: soupsieve>1.2 in /usr/local/lib/python3.9/dist-packages (from beautifulsoup4>=4.6.0->pycbc) (2.4)\n",
            "Requirement already satisfied: six in /usr/local/lib/python3.9/dist-packages (from lscsoft-glue->lalsuite) (1.15.0)\n",
            "Requirement already satisfied: pyRXP in /usr/local/lib/python3.9/dist-packages (from lscsoft-glue->lalsuite) (3.0.1)\n",
            "Requirement already satisfied: pyOpenSSL in /usr/local/lib/python3.9/dist-packages (from lscsoft-glue->lalsuite) (23.0.0)\n",
            "Requirement already satisfied: MarkupSafe>=0.9.2 in /usr/local/lib/python3.9/dist-packages (from Mako>=1.0.1->pycbc) (2.1.2)\n",
            "Requirement already satisfied: packaging>=20.0 in /usr/local/lib/python3.9/dist-packages (from matplotlib->lalsuite) (23.0)\n",
            "Requirement already satisfied: kiwisolver>=1.0.1 in /usr/local/lib/python3.9/dist-packages (from matplotlib->lalsuite) (1.4.4)\n",
            "Requirement already satisfied: fonttools>=4.22.0 in /usr/local/lib/python3.9/dist-packages (from matplotlib->lalsuite) (4.39.0)\n",
            "Requirement already satisfied: pyparsing>=2.2.1 in /usr/local/lib/python3.9/dist-packages (from matplotlib->lalsuite) (3.0.9)\n",
            "Requirement already satisfied: cycler>=0.10 in /usr/local/lib/python3.9/dist-packages (from matplotlib->lalsuite) (0.11.0)\n",
            "Requirement already satisfied: pegasus-wms.common in /usr/local/lib/python3.9/dist-packages (from pegasus-wms.api>=5.0.3->pycbc) (5.0.5)\n",
            "Requirement already satisfied: pyyaml in /usr/local/lib/python3.9/dist-packages (from python-ligo-lw>=1.7.0->pycbc) (6.0)\n",
            "Requirement already satisfied: igwn-auth-utils>=0.3.1 in /usr/local/lib/python3.9/dist-packages (from gwdatafind->pycbc) (0.4.0)\n",
            "Requirement already satisfied: cryptography>=2.3 in /usr/local/lib/python3.9/dist-packages (from igwn-auth-utils>=0.3.1->gwdatafind->pycbc) (39.0.2)\n",
            "Requirement already satisfied: requests>=2.14 in /usr/local/lib/python3.9/dist-packages (from igwn-auth-utils>=0.3.1->gwdatafind->pycbc) (2.25.1)\n",
            "Requirement already satisfied: safe-netrc>=1.0.0 in /usr/local/lib/python3.9/dist-packages (from igwn-auth-utils>=0.3.1->gwdatafind->pycbc) (1.0.1)\n",
            "Requirement already satisfied: scitokens>=1.7.0 in /usr/local/lib/python3.9/dist-packages (from igwn-auth-utils>=0.3.1->gwdatafind->pycbc) (1.7.4)\n",
            "Requirement already satisfied: cffi>=1.12 in /usr/local/lib/python3.9/dist-packages (from cryptography>=2.3->igwn-auth-utils>=0.3.1->gwdatafind->pycbc) (1.15.1)\n",
            "Requirement already satisfied: chardet<5,>=3.0.2 in /usr/local/lib/python3.9/dist-packages (from requests>=2.14->igwn-auth-utils>=0.3.1->gwdatafind->pycbc) (4.0.0)\n",
            "Requirement already satisfied: urllib3<1.27,>=1.21.1 in /usr/local/lib/python3.9/dist-packages (from requests>=2.14->igwn-auth-utils>=0.3.1->gwdatafind->pycbc) (1.26.15)\n",
            "Requirement already satisfied: idna<3,>=2.5 in /usr/local/lib/python3.9/dist-packages (from requests>=2.14->igwn-auth-utils>=0.3.1->gwdatafind->pycbc) (2.10)\n",
            "Requirement already satisfied: certifi>=2017.4.17 in /usr/local/lib/python3.9/dist-packages (from requests>=2.14->igwn-auth-utils>=0.3.1->gwdatafind->pycbc) (2022.12.7)\n",
            "Requirement already satisfied: PyJWT>=1.6.1 in /usr/local/lib/python3.9/dist-packages (from scitokens>=1.7.0->igwn-auth-utils>=0.3.1->gwdatafind->pycbc) (2.6.0)\n",
            "Requirement already satisfied: pycparser in /usr/local/lib/python3.9/dist-packages (from cffi>=1.12->cryptography>=2.3->igwn-auth-utils>=0.3.1->gwdatafind->pycbc) (2.21)\n"
          ]
        }
      ],
      "source": [
        "import sys\n",
        "!{sys.executable} -m pip install lalsuite pycbc"
      ]
    },
    {
      "cell_type": "code",
      "source": [
        "from google.colab import drive\n",
        "drive.mount('/content/drive')"
      ],
      "metadata": {
        "colab": {
          "base_uri": "https://localhost:8080/"
        },
        "id": "AsHr7xzqpma1",
        "outputId": "cc65c462-9eb6-44da-fe89-970bf568d7b7"
      },
      "execution_count": 28,
      "outputs": [
        {
          "output_type": "stream",
          "name": "stdout",
          "text": [
            "Drive already mounted at /content/drive; to attempt to forcibly remount, call drive.mount(\"/content/drive\", force_remount=True).\n"
          ]
        }
      ]
    },
    {
      "cell_type": "code",
      "source": [
        "#Firstly, we have to import the important libraries/packages for data analysis, visualization, and computing\n",
        "%matplotlib inline\n",
        "import pylab\n",
        "import lal\n",
        "from pycbc.filter import highpass,matched_filter,sigmasq\n",
        "from pycbc.conversions import mass1_from_mchirp_q\n",
        "from pycbc.catalog import Merger\n",
        "from pycbc.frame import read_frame\n",
        "from pycbc.filter import resample_to_delta_t, highpass\n",
        "import numpy as np\n",
        "from pycbc import types\n",
        "from pycbc.waveform import get_td_waveform,get_fd_waveform\n",
        "from pycbc.waveform import td_approximants, fd_approximants\n",
        "import pycbc.psd\n",
        "from pycbc.psd import interpolate\n"
      ],
      "metadata": {
        "id": "gJ9dxNXvpq3J"
      },
      "execution_count": 29,
      "outputs": []
    },
    {
      "cell_type": "code",
      "source": [
        "d = np.load('/content/drive/MyDrive/noise_ts_4096Hz.npy') #loading a noise time series, first column contains the time values and the second contains noise values recorded by the detector.\n",
        "dt = d[:, 0] # the time variable is extracted and stored in the variable dt\n",
        "d = types.TimeSeries(d[:, 1], delta_t = dt[1]- dt[0]) # then we convert the noise into GW time series, with time value as the sample time and the \n",
        "# time step as the difference between the n and n-1 time values.\n",
        "data = d # saving GW time series as a 'data' variable"
      ],
      "metadata": {
        "id": "Nv1vfrvkpr-O"
      },
      "execution_count": 30,
      "outputs": []
    },
    {
      "cell_type": "code",
      "source": [
        "strain=resample_to_delta_t(highpass(data, 15.0), 1.0/2048).crop(4,4) # we apply the high pass filter (15 Hz cutoff) and downsample the data\n",
        "# to 2048 Hz; crop removes the first and last 4 seconds of the measurement\n",
        "\n",
        "stilde=strain.to_frequencyseries() # FT of the data/ converting to frequency series since 'stilde' contains the the amplitude and the phase\n",
        "#of the different frequency components that can be further analysed.\n",
        "\n",
        "# Calculates the power spectral density using the Welch method\n",
        "# This method divides the time series data into smaller 'bins' that are overlapping and applies a window function to each of the segments to reduce\n",
        "# spectral leakage. The segments undergo FT and psd is estimated from there. \n",
        "delta_t = strain.delta_t\n",
        "seg_len = int(2 / delta_t) # length of each segment\n",
        "seg_stride = int(seg_len / 2) # overlap between segments\n",
        "psd  = pycbc.psd.welch(strain,\n",
        "                  seg_len=seg_len,\n",
        "                  seg_stride=seg_stride)\n",
        "\n",
        "psd = interpolate(psd, stilde.delta_f) # contains the frequency values and the psd values at those frequencies\n",
        "\n",
        "\n",
        "#plotting\n",
        "pylab.loglog(psd.sample_frequencies, psd);\n",
        "pylab.xlabel('Frequency (Hz)');\n",
        "pylab.ylabel('PSD');\n",
        "pylab.xlim(20, 1024);\n",
        "pylab.ylim(1e-47, 1e-42)"
      ],
      "metadata": {
        "colab": {
          "base_uri": "https://localhost:8080/",
          "height": 306
        },
        "id": "J3BXU4Oop95t",
        "outputId": "08909932-45a0-466c-d3a9-7089e1dd6ad5"
      },
      "execution_count": 31,
      "outputs": [
        {
          "output_type": "execute_result",
          "data": {
            "text/plain": [
              "(1e-47, 1e-42)"
            ]
          },
          "metadata": {},
          "execution_count": 31
        },
        {
          "output_type": "display_data",
          "data": {
            "text/plain": [
              "<Figure size 432x288 with 1 Axes>"
            ],
            "image/png": "[encoded data removed]"
          },
          "metadata": {
            "needs_background": "light"
          }
        }
      ]
    },
    {
      "cell_type": "code",
      "source": [
        "mass_range = np.arange(5, 10,0.5 ) # calculating snr over a smaller range/computing time is lower\n",
        "Snr_list = []\n",
        "for m in mass_range:\n",
        "  hp, hc = get_td_waveform(approximant=\"TaylorT2\", # generating the waveform under the assumption that m_1 = m_2\n",
        "                     mass1=m,\n",
        "                     mass2=m,\n",
        "                     delta_t=strain.delta_t,\n",
        "                     f_lower=15.0) #cutoff frequency\n",
        "\n",
        "  hp.resize(len(strain)) # waveform is being resized to the length of the strain to ensure they can be used for further analysis\n",
        "\n",
        "\n",
        "  template = hp.cyclic_time_shift(hp.start_time) # cyclic time shift performed on the waveform created\n",
        "  # end of the waveform is wrapped around the beginning of the waveform. Particularly useful for matching waveforms that have the same periodicity,\n",
        "  # but do not start at the same time.\n",
        "\n",
        "  snr = matched_filter(template, strain, # snr generation through matched filter\n",
        "                    psd=psd, low_frequency_cutoff=15.0)\n",
        "  snr_H1 = snr.crop(4 + 4, 4) # final snr is cropped (4 seconds from the beginning and from the end)\n",
        "\n",
        "  Snr_list.append(max(abs(snr_H1))) # appending the final snr to the list\n",
        "\n",
        "\n",
        "pylab.figure(figsize=[10, 4]) # plotting the snr vs mass to check whether there are any signals crossing 8, since we use it as a cutoff value.\n",
        "pylab.plot(mass_range,Snr_list)\n",
        "pylab.xlim(xmin = 5, xmax = 10);\n",
        "pylab.ylabel('Signal-to-noise')\n",
        "pylab.xlabel('mass')"
      ],
      "metadata": {
        "colab": {
          "base_uri": "https://localhost:8080/",
          "height": 296
        },
        "id": "Vs7fV8MZqdpj",
        "outputId": "6245ee52-01a3-4057-ac21-42d37370f9db"
      },
      "execution_count": 32,
      "outputs": [
        {
          "output_type": "execute_result",
          "data": {
            "text/plain": [
              "Text(0.5, 0, 'mass')"
            ]
          },
          "metadata": {},
          "execution_count": 32
        },
        {
          "output_type": "display_data",
          "data": {
            "text/plain": [
              "<Figure size 720x288 with 1 Axes>"
            ],
            "image/png": "[encoded data removed]"
          },
          "metadata": {
            "needs_background": "light"
          }
        }
      ]
    },
    {
      "cell_type": "markdown",
      "source": [
        "From the graph above, we can see that no snr value crosses 8. Therefore, there is no GW signal in our data."
      ],
      "metadata": {
        "id": "IhXQcfggJ4V6"
      }
    },
    {
      "cell_type": "markdown",
      "source": [
        "PART 2"
      ],
      "metadata": {
        "id": "fqI2X1-zKAeo"
      }
    },
    {
      "cell_type": "code",
      "source": [
        "import scipy\n",
        "from scipy.stats import norm\n",
        "\n",
        "\n",
        "white_data = (strain.to_frequencyseries()/psd**0.5).to_timeseries() # whitening the data\n",
        "white_data = white_data.crop(4,4) # cropping the data\n",
        "\n",
        "\n",
        "boundaries = (-150,150) # x-axis limits of the histogram\n",
        "\n",
        "mean,sd=norm.fit(white_data) # normal distribution data-fitting\n",
        "\n",
        "x=np.linspace(*boundaries,300)\n",
        "gauss=norm.pdf(x,mean,sd) # gaussian distribution defined by mean and standard deviation.\n",
        "\n",
        "\n",
        "pylab.plot(x,gauss,'k',label='gaussian'); # plotting the distribution\n",
        "y=pylab.hist(white_data,bins=100,density=True,label='data')\n",
        "pylab.xlim(*boundaries);\n",
        "pylab.legend();\n",
        "pylab.title(\"$\\mu={}$, $\\sigma={}$\".format(mean,sd));\n",
        "pylab.xlabel(\"White Background\");\n",
        "pylab.ylabel(\"Probability\");\n"
      ],
      "metadata": {
        "colab": {
          "base_uri": "https://localhost:8080/",
          "height": 296
        },
        "id": "BkL9KKOJqqWu",
        "outputId": "300d38fd-1610-4e0d-95b8-da6ac15cf574"
      },
      "execution_count": 33,
      "outputs": [
        {
          "output_type": "display_data",
          "data": {
            "text/plain": [
              "<Figure size 432x288 with 1 Axes>"
            ],
            "image/png": "[encoded data removed]"
          },
          "metadata": {
            "needs_background": "light"
          }
        }
      ]
    },
    {
      "cell_type": "markdown",
      "source": [
        "The expected mean of the distribution is 0. The obtained value is slightly lower, but within the statistical significance of the problem."
      ],
      "metadata": {
        "id": "eTejHez5LMmW"
      }
    },
    {
      "cell_type": "markdown",
      "source": [
        "PART 3"
      ],
      "metadata": {
        "id": "RQoRG6ISLWAV"
      }
    },
    {
      "cell_type": "code",
      "source": [
        "# Now, we are going to divide data into a number of segments\n",
        "n = 40 #number of segments\n",
        "d = white_data.duration/n #duration of each segment defined\n",
        "t_i = white_data.start_time\n",
        "t_f = t_i\n",
        "segments = []\n",
        "\n",
        "while(t_f != white_data.end_time):\n",
        "  t_f+=d\n",
        "  segments.append(white_data.time_slice(t_i,t_f))\n",
        "  t_i=t_f\n",
        "\n",
        "  \n",
        "SNRS=[] # Then, we are going to calculate the power spectral density and snr for each segment\n",
        "for st in segments:\n",
        "  st_tilde=strain.to_frequencyseries()\n",
        "  delta_t = st.delta_t\n",
        "  seg_len = int(2 / delta_t)\n",
        "  seg_stride = int(seg_len / 2) \n",
        "  psd  = pycbc.psd.welch(st,\n",
        "                    seg_len=seg_len,\n",
        "                    seg_stride=seg_stride) # calculating the psd using the Welch method\n",
        "\n",
        "  psd = interpolate(psd, st_tilde.delta_f)\n",
        "\n",
        "  hp,hc= get_fd_waveform(approximant=\"TaylorF2\", #generating the waveform under the assumption that m_1 = m_2 = 3\n",
        "                     mass1=3,\n",
        "                     mass2=3,\n",
        "                     delta_f=st_tilde.delta_f,\n",
        "                     f_lower=15.0) # cutoff frequency\n",
        "  hp.resize(len(st_tilde))\n",
        "\n",
        "\n",
        "  SNR=(sigmasq(hp,psd))**0.5 # calculatin the snr and then appending it to snrs list\n",
        "  \n",
        "  SNRS.append(SNR)"
      ],
      "metadata": {
        "id": "PjFrzxDSqy_I"
      },
      "execution_count": 37,
      "outputs": []
    },
    {
      "cell_type": "code",
      "source": [
        "# plotting the histogram\n",
        "pylab.hist(SNRS,bins = n, density = False);\n",
        "pylab.xlabel('SNR');\n",
        "pylab.ylabel('Number of events');"
      ],
      "metadata": {
        "colab": {
          "base_uri": "https://localhost:8080/",
          "height": 279
        },
        "id": "x3Swi_HGq2-0",
        "outputId": "8ee20970-f8f7-42fa-b013-daae9595efad"
      },
      "execution_count": 36,
      "outputs": [
        {
          "output_type": "display_data",
          "data": {
            "text/plain": [
              "<Figure size 432x288 with 1 Axes>"
            ],
            "image/png": "[encoded data removed]"
          },
          "metadata": {
            "needs_background": "light"
          }
        }
      ]
    },
    {
      "cell_type": "markdown",
      "source": [
        "From the histogram above, we can confirm that the background is not stationary. However, most of the observed events are concentrated around a smaller range of snr values, and therefore, it is reasonable to assume a constant bacground in order to ease the analysis of the GW."
      ],
      "metadata": {
        "id": "jCibEjnXNGjO"
      }
    }
  ]
}